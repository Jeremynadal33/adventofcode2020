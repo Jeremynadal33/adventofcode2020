{
 "cells": [
  {
   "cell_type": "code",
   "execution_count": 2,
   "metadata": {},
   "outputs": [],
   "source": [
    "import pandas as pd\n",
    "import re\n",
    "import numpy as np\n",
    "import os"
   ]
  },
  {
   "cell_type": "code",
   "execution_count": 3,
   "metadata": {},
   "outputs": [],
   "source": [
    "root_dir = '/Users/jeremynadal/Documents/adventofcode/adventofcode2020/'\n",
    "file_path = root_dir + 'inputs/input_3.txt'"
   ]
  },
  {
   "cell_type": "markdown",
   "metadata": {},
   "source": [
    "# Day 2 "
   ]
  },
  {
   "cell_type": "code",
   "execution_count": 18,
   "metadata": {},
   "outputs": [],
   "source": [
    "data = pd.read_csv(root_dir+'input_2.txt',sep = '\\n', header = None)\n",
    "data.columns = ['raw']"
   ]
  },
  {
   "cell_type": "code",
   "execution_count": 19,
   "metadata": {},
   "outputs": [
    {
     "data": {
      "text/plain": [
       "['1-4', 'm:', 'mrfmmbjxr']"
      ]
     },
     "execution_count": 19,
     "metadata": {},
     "output_type": "execute_result"
    }
   ],
   "source": [
    "data['raw'][0].split(' ')"
   ]
  },
  {
   "cell_type": "code",
   "execution_count": 42,
   "metadata": {},
   "outputs": [],
   "source": [
    "check = []\n",
    "\n",
    "for ind in range(data.shape[0]):\n",
    "    min_letter = int(data['raw'][ind].split(' ')[0].split('-')[0])\n",
    "    max_letter = int(data['raw'][ind].split(' ')[0].split('-')[1])\n",
    "    letter     = data['raw'][ind].split(' ')[1].split(':')[0]\n",
    "    passcode   = data['raw'][ind].split(' ')[2]\n",
    "\n",
    "    check.append( (passcode.count(letter)<=max_letter) and  (passcode.count(letter)>=min_letter))\n",
    "    \n",
    "data['check'] = check"
   ]
  },
  {
   "cell_type": "code",
   "execution_count": 44,
   "metadata": {},
   "outputs": [
    {
     "data": {
      "text/plain": [
       "607"
      ]
     },
     "execution_count": 44,
     "metadata": {},
     "output_type": "execute_result"
    }
   ],
   "source": [
    "data['check'].sum()"
   ]
  },
  {
   "cell_type": "code",
   "execution_count": 71,
   "metadata": {},
   "outputs": [],
   "source": [
    "check = []\n",
    "for ind in range(data.shape[0]):\n",
    "    first_letter = int(data['raw'][ind].split(' ')[0].split('-')[0])\n",
    "    second_letter = int(data['raw'][ind].split(' ')[0].split('-')[1])\n",
    "    letter     = data['raw'][ind].split(' ')[1].split(':')[0]\n",
    "    passcode   = data['raw'][ind].split(' ')[2]\n",
    "\n",
    "    check.append( (passcode[first_letter-1]==letter or passcode[second_letter-1]==letter ) \n",
    "                 and not (passcode[first_letter-1]==letter and passcode[second_letter-1]==letter ) )\n",
    "data['check'] = check"
   ]
  },
  {
   "cell_type": "code",
   "execution_count": 72,
   "metadata": {},
   "outputs": [
    {
     "data": {
      "text/plain": [
       "321"
      ]
     },
     "execution_count": 72,
     "metadata": {},
     "output_type": "execute_result"
    }
   ],
   "source": [
    "data['check'].sum()"
   ]
  },
  {
   "cell_type": "markdown",
   "metadata": {},
   "source": [
    "# Day 3"
   ]
  },
  {
   "cell_type": "code",
   "execution_count": 80,
   "metadata": {},
   "outputs": [
    {
     "name": "stdout",
     "output_type": "stream",
     "text": [
      "(323, 31)\n"
     ]
    }
   ],
   "source": [
    "file = 'input_3.txt'\n",
    "with open(root_dir+file,\"rt\") as infile:\n",
    "    data =  np.matrix([list(line.strip()) for line in infile.readlines()])\n",
    "print(data.shape)"
   ]
  },
  {
   "cell_type": "code",
   "execution_count": 78,
   "metadata": {},
   "outputs": [
    {
     "data": {
      "text/plain": [
       "'.'"
      ]
     },
     "execution_count": 78,
     "metadata": {},
     "output_type": "execute_result"
    }
   ],
   "source": [
    "data.shape\n",
    "data[0,0]"
   ]
  },
  {
   "cell_type": "code",
   "execution_count": 121,
   "metadata": {},
   "outputs": [
    {
     "name": "stdout",
     "output_type": "stream",
     "text": [
      "direction : [1, 1]\n",
      "[322, 12] 60\n",
      "direction : [1, 3]\n",
      "[322, 5] 286\n",
      "direction : [1, 5]\n",
      "[322, 29] 76\n",
      "direction : [1, 7]\n",
      "[322, 22] 62\n",
      "direction : [2, 1]\n",
      "[322, 6] 45\n",
      "3638606400\n"
     ]
    }
   ],
   "source": [
    "mult = 1\n",
    "directions = [[1,1],[1,3],[1,5],[1,7],[2,1]] # One down and three right\n",
    "\n",
    "for direction in directions : \n",
    "    print('direction :',direction)\n",
    "    pos = [0,0]\n",
    "    trees = 0\n",
    "    while pos[0] < (data.shape[0]-1) : \n",
    "        pos[0] += direction[0]\n",
    "        pos[1] += direction[1]\n",
    "        if pos[1] >= data.shape[1]:\n",
    "            pos[1] = pos[1] - data.shape[1]\n",
    "        if data[pos[0],pos[1]] == '#':\n",
    "            trees += 1\n",
    "    mult *= trees\n",
    "        \n",
    "    print(pos,trees)\n",
    "print(mult)"
   ]
  },
  {
   "cell_type": "markdown",
   "metadata": {},
   "source": [
    "# Day 4"
   ]
  },
  {
   "cell_type": "code",
   "execution_count": 97,
   "metadata": {},
   "outputs": [],
   "source": [
    "file_path = root_dir+'inputs/input_4.txt'\n",
    "\n",
    "if os.path.exists(file_path):\n",
    "    file = open(file_path,'r')\n",
    "    \n",
    "raw = file.read()\n",
    "raw = raw[:-1]"
   ]
  },
  {
   "cell_type": "code",
   "execution_count": 98,
   "metadata": {},
   "outputs": [],
   "source": [
    "raw = raw.split('\\n\\n')"
   ]
  },
  {
   "cell_type": "code",
   "execution_count": 99,
   "metadata": {},
   "outputs": [],
   "source": [
    "raw = [re.sub('\\n',' ',r) for r in raw ]"
   ]
  },
  {
   "cell_type": "code",
   "execution_count": 100,
   "metadata": {},
   "outputs": [
    {
     "data": {
      "text/plain": [
       "['ecl:hzl byr:1926 iyr:2010 pid:221225902 cid:61 hgt:186cm eyr:2021 hcl:#7d3b0c',\n",
       " 'hcl:#efcc98 hgt:178 pid:433543520 eyr:2020 byr:1926 ecl:blu cid:92 iyr:2010',\n",
       " 'iyr:2018 eyr:2026 byr:1946 ecl:brn hcl:#b6652a hgt:158cm pid:822320101',\n",
       " 'iyr:2010 hgt:138 ecl:grn pid:21019503 eyr:1937 byr:2008 hcl:z',\n",
       " 'byr:2018 hcl:z eyr:1990 ecl:#d06796 iyr:2019 hgt:176in cid:75 pid:153cm',\n",
       " 'byr:1994 hcl:#ceb3a1 hgt:176cm cid:80 pid:665071929 eyr:2024 iyr:2020 ecl:grn',\n",
       " 'cid:280 byr:1955 ecl:blu hgt:155cm hcl:#733820 eyr:2013 iyr:2011 pid:2346820632',\n",
       " 'hcl:#4a5917 hgt:61cm pid:4772651050 iyr:2026 ecl:brn byr:2015 eyr:2026',\n",
       " 'iyr:2019 hcl:#a97842 hgt:182cm eyr:2024 ecl:gry pid:917294399 byr:1974',\n",
       " 'ecl:#9c635c pid:830491851 hgt:175cm cid:141 iyr:2010 hcl:z byr:2026 eyr:1998',\n",
       " 'byr:1927 iyr:2011 pid:055176954 ecl:gry hcl:#7d3b0c eyr:2025 hgt:166cm',\n",
       " 'hcl:#733820 byr:2008 ecl:utc eyr:1920 pid:159cm hgt:66cm iyr:2030',\n",
       " 'pid:027609878 eyr:2022 iyr:2012 byr:1960 hgt:157cm hcl:#b6652a cid:117 ecl:grn',\n",
       " 'iyr:2025 pid:7190749793 ecl:grn byr:1984 hgt:71in hcl:c41681 cid:259 eyr:1928',\n",
       " 'eyr:2029 pid:141655389 cid:52 hcl:#cfa07d iyr:2019 ecl:blu hgt:69in byr:1938',\n",
       " 'eyr:2020 hgt:166cm ecl:gry pid:611660309 iyr:2011 hcl:#623a2f byr:1943',\n",
       " 'hgt:190cm eyr:2022 byr:2000 cid:210 pid:728418346 hcl:#a97842 ecl:xry iyr:2015',\n",
       " 'byr:1973 eyr:2028 iyr:2012 hcl:#ff0ec8 pid:740554599 ecl:amb cid:58 hgt:155cm',\n",
       " 'iyr:2016 pid:922938570 ecl:oth hcl:#fffffd hgt:154cm eyr:2021 byr:1966',\n",
       " 'ecl:amb byr:1929 hcl:#c3bbea pid:511876219 iyr:2019 hgt:191cm eyr:2026',\n",
       " 'ecl:utc hgt:155cm pid:#9f0a41 iyr:2012 hcl:#bd4141 byr:1998 eyr:2020',\n",
       " 'ecl:grn hgt:173cm cid:321 pid:851120816 byr:1968 hcl:#a97842 eyr:2027 iyr:2014',\n",
       " 'hgt:155cm hcl:#f40d77 pid:038224056 byr:1953 ecl:brn iyr:2014 eyr:2022',\n",
       " 'pid:181869721 iyr:2011 hgt:151cm hcl:#733820 cid:110 ecl:blu byr:1931 eyr:2024',\n",
       " 'byr:1948 hcl:#888785 hgt:74in cid:112 ecl:hzl pid:921761213 eyr:2028 iyr:2015',\n",
       " 'ecl:gry byr:1931 pid:600127430 hcl:#341e13 eyr:2027 iyr:2013 hgt:173cm',\n",
       " 'hgt:178cm pid:530791289 hcl:#6b5442 eyr:2022 byr:1979 iyr:2014 ecl:hzl',\n",
       " 'pid:412193170 hcl:#cfa07d hgt:186cm iyr:2012 cid:284 eyr:2020 byr:1967 ecl:grn',\n",
       " 'hcl:#6b5442 iyr:2015 pid:808448466 ecl:blu eyr:2022 hgt:159cm byr:1969',\n",
       " 'eyr:2020 iyr:2019 hgt:170cm pid:8964201562 hcl:#6b5442 byr:1947 ecl:amb',\n",
       " 'eyr:2029 ecl:hzl hcl:#866857 byr:1961 iyr:2017',\n",
       " 'ecl:#3456ba eyr:2013 iyr:2020 pid:378280953 hcl:z hgt:174cm',\n",
       " 'hgt:172cm cid:202 ecl:oth eyr:2021 byr:1980 iyr:2012 hcl:#cfa07d pid:605707698',\n",
       " 'cid:281 hgt:161cm iyr:2017 pid:122936432 hcl:#602927 byr:1981 ecl:gry eyr:2021',\n",
       " 'byr:1959 hgt:193cm pid:083900241 iyr:2020 eyr:2037 hcl:#623a2f ecl:hzl',\n",
       " 'iyr:2030 hgt:153cm eyr:2022 hcl:#efcc98 cid:131 byr:2016 ecl:hzl pid:64053944',\n",
       " 'hgt:172cm eyr:2025 hcl:#866857 byr:1938 ecl:dne pid:192cm iyr:2014',\n",
       " 'pid:016297574 cid:152 iyr:2015 eyr:2024 hcl:#341e13 byr:1965 hgt:175cm ecl:oth',\n",
       " 'pid:604330171 cid:125 byr:1974 hgt:160cm iyr:2014 eyr:2022 ecl:oth hcl:#6b5442',\n",
       " 'pid:59747275 byr:2027 hgt:145 hcl:1fd71f iyr:1944 eyr:2037 ecl:brn',\n",
       " 'iyr:2010 eyr:2021 byr:1953 pid:7098774146 ecl:brn hcl:98737d hgt:158cm',\n",
       " 'hcl:#602927 eyr:2039 pid:#81a5a1 iyr:2012 cid:67 byr:1951 ecl:#6551f5 hgt:76cm',\n",
       " 'hgt:170cm ecl:oth cid:235 eyr:2022 byr:1929 iyr:2019 hcl:#341e13 pid:797557745',\n",
       " 'iyr:2011 hcl:#733820 eyr:2022 pid:830183476 ecl:blu byr:1976 cid:157 hgt:75in',\n",
       " 'hgt:164cm ecl:amb pid:653425455 hcl:#623a2f byr:1977 eyr:2020 iyr:2013',\n",
       " 'byr:2009 eyr:1953 hgt:178cm pid:#5d02f0 hcl:#a97842 iyr:2016 ecl:amb',\n",
       " 'pid:009643210 eyr:2036 ecl:zzz cid:97 hcl:32e540 byr:2005 hgt:187cm iyr:2021',\n",
       " 'pid:155cm iyr:2022 byr:2024 eyr:2031 ecl:amb cid:79 hcl:#cfa07d hgt:69cm',\n",
       " 'cid:176 ecl:oth pid:688645779 byr:1933 eyr:2026 hgt:69cm iyr:2016 hcl:#888785',\n",
       " 'hcl:#888785 eyr:2027 iyr:2020 pid:802243213 ecl:brn hgt:179cm byr:1976',\n",
       " 'hcl:#6cad3e hgt:164cm byr:1982 iyr:2020 ecl:gry pid:142160687 eyr:2023',\n",
       " 'hcl:#18171d hgt:153cm iyr:2014 ecl:hzl cid:231 pid:167809118 byr:1997 eyr:2028',\n",
       " 'byr:1940 ecl:hzl iyr:2016 cid:67 hcl:#c800da pid:563956960 eyr:2021 hgt:189cm',\n",
       " 'pid:133094996 eyr:2032 hgt:60cm hcl:#623a2f byr:2030 ecl:dne iyr:2023',\n",
       " 'pid:65195409 hcl:d0d492 iyr:1956 byr:2019 ecl:#bb043f eyr:2031 hgt:167in',\n",
       " 'iyr:2016 byr:2006 ecl:#35d62f eyr:2029 hgt:186cm hcl:1d8307',\n",
       " 'eyr:1935 iyr:1960 pid:346667344 ecl:grn hgt:170cm hcl:cfcc36',\n",
       " 'ecl:oth byr:1979 pid:165581192 hgt:177cm hcl:#c0946f iyr:2011',\n",
       " 'iyr:2011 eyr:2030 pid:250840477 byr:1934 cid:174 hgt:179cm hcl:#866857 ecl:blu',\n",
       " 'hgt:157cm hcl:#7d3b0c eyr:2027 pid:979510046 ecl:oth',\n",
       " 'iyr:2025 hgt:69 ecl:grt byr:1935 eyr:1928 pid:168cm cid:271 hcl:z',\n",
       " 'pid:998166233 iyr:2020 hgt:166cm ecl:amb byr:1995 hcl:#fffffd',\n",
       " 'hcl:#ceb3a1 ecl:amb iyr:2019 eyr:2024 hgt:184cm byr:1980 pid:839215481 cid:146',\n",
       " 'byr:1967 pid:444303019 ecl:oth hgt:150cm eyr:2024',\n",
       " 'eyr:2023 byr:1960 iyr:2010 cid:236 hcl:#733820 pid:900635506 hgt:69in ecl:hzl',\n",
       " 'eyr:2029 pid:969574247 hgt:150cm byr:1967 iyr:2010 ecl:blu',\n",
       " 'pid:575879605 iyr:2010 ecl:hzl byr:1963 hgt:151cm hcl:#c0946f cid:277',\n",
       " 'byr:1998 pid:621374275 ecl:brn hcl:z iyr:2029 eyr:2024 hgt:68cm',\n",
       " 'pid:365407169 ecl:amb hcl:#87f433 iyr:2011 eyr:2021 byr:1987 hgt:175cm cid:201',\n",
       " 'hgt:175cm iyr:2020 ecl:gry eyr:2029 pid:806927384 cid:59 byr:1932 hcl:#888785',\n",
       " 'pid:589898274 cid:113 hcl:z hgt:184cm eyr:2000 ecl:lzr iyr:2016 byr:2016',\n",
       " 'ecl:#2bafbb eyr:2038 iyr:2027 hcl:#fffffd hgt:174 byr:2007 pid:093750113',\n",
       " 'eyr:2022 hgt:59in hcl:#ceb3a1 pid:159921662 ecl:gry byr:1948 iyr:2014 cid:50',\n",
       " 'hgt:190cm iyr:2014 pid:480507618 hcl:#fffffd byr:1945 eyr:2029',\n",
       " 'byr:1951 hgt:152cm ecl:brn iyr:2016 eyr:2029 cid:179 pid:027575942 hcl:#fffffd',\n",
       " 'cid:198 pid:728480773 eyr:2028 hgt:153cm iyr:2018 hcl:#888785 ecl:amb byr:1983',\n",
       " 'byr:1968 hcl:#c0946f ecl:grn eyr:2027 iyr:2013 pid:269749807 cid:227 hgt:178cm',\n",
       " 'eyr:2024 hgt:185cm ecl:oth hcl:#448ace byr:1987 iyr:2018 pid:454243136',\n",
       " 'byr:1930 ecl:grn iyr:2018 hgt:158cm hcl:#341e13 eyr:2021',\n",
       " 'eyr:2024 cid:194 pid:425431271 hgt:169cm ecl:grn byr:1973 iyr:2014 hcl:#fffffd',\n",
       " 'ecl:grn cid:110 iyr:2013 hcl:#18171d hgt:155cm eyr:2024 byr:1962 pid:522435225',\n",
       " 'byr:1934 ecl:hzl hgt:152cm iyr:2018 eyr:2024 pid:079740520',\n",
       " 'ecl:grn eyr:2023 hcl:c3f119 pid:468039715 iyr:2013 hgt:150cm byr:1955',\n",
       " 'pid:809357582 eyr:2025 byr:1958 hcl:#6b5442 iyr:2013 hgt:161cm ecl:hzl',\n",
       " 'hcl:#b6652a pid:068979430 byr:1960 iyr:2010 ecl:grn hgt:159cm eyr:2021',\n",
       " 'cid:105 pid:495292692 byr:1965 hcl:#ceb3a1 hgt:160cm ecl:amb iyr:2020',\n",
       " 'iyr:2010 eyr:2024 byr:1941 ecl:grn hcl:#b35770 hgt:171cm cid:132 pid:975699036',\n",
       " 'pid:767448421 hgt:186cm hcl:#733820 byr:1972 iyr:2020 eyr:2026 ecl:grn',\n",
       " 'pid:036236909 iyr:2012 hgt:181cm hcl:#888785 eyr:2026 ecl:hzl byr:1936',\n",
       " 'hgt:173cm byr:1923 ecl:blu eyr:2026 pid:570818321 hcl:#733820 iyr:2016 cid:59',\n",
       " 'pid:2711059768 byr:2024 cid:139 ecl:blu hcl:z hgt:60cm',\n",
       " 'eyr:2025 pid:671193016 byr:1950 hcl:#6b4b25 iyr:2017 hgt:158cm ecl:blu',\n",
       " 'hgt:175cm iyr:2015 ecl:amb byr:1984 eyr:2026 pid:342782894 cid:140',\n",
       " 'iyr:2019 eyr:2027 byr:1972 pid:196266458 hgt:158cm hcl:#7d3b0c cid:69',\n",
       " 'pid:604018034 iyr:2016 ecl:brn eyr:2028 hgt:172cm hcl:#6b5442 byr:1922 cid:238',\n",
       " 'eyr:2024 ecl:gry byr:1970 pid:356551266 cid:340 hgt:162cm iyr:2013',\n",
       " 'ecl:amb hgt:151cm hcl:#18171d byr:1921 pid:187276410 eyr:2030 iyr:2015',\n",
       " 'eyr:2030 pid:056372924 hcl:#d236d9 hgt:156cm iyr:2014 ecl:blu',\n",
       " 'iyr:2014 eyr:2028 byr:1991 hcl:#b6652a pid:119231378 hgt:155cm ecl:blu cid:77',\n",
       " 'hcl:#341e13 eyr:2027 iyr:2012 ecl:grn hgt:152cm pid:405955710 byr:1970',\n",
       " 'iyr:2013 hgt:180cm eyr:1978 ecl:amb byr:1929 pid:3198111997 hcl:z',\n",
       " 'pid:32872520 ecl:#8a0dd4 iyr:1955 eyr:2036 byr:2027 cid:133 hcl:z hgt:184in',\n",
       " 'hgt:152cm pid:402361044 hcl:#efcc98 eyr:2029 ecl:grn iyr:2014 byr:1960',\n",
       " 'byr:1972 eyr:2026 pid:411187543 iyr:2014 hgt:184cm cid:211 hcl:#866857 ecl:brn',\n",
       " 'ecl:brn hcl:#efcc98 pid:311916712 byr:1957 hgt:151cm eyr:2020 iyr:2020',\n",
       " 'iyr:1968 hcl:a28220 pid:#ed250d cid:240 eyr:2031 hgt:181cm ecl:xry',\n",
       " 'ecl:grn byr:1946 hgt:172cm iyr:2010 hcl:#b6652a pid:372011640 eyr:2026',\n",
       " 'ecl:brn eyr:2026 byr:1980 hcl:#c0946f hgt:151cm pid:153076317 iyr:2012',\n",
       " 'byr:1966 pid:852999809 ecl:oth hgt:163cm iyr:2014 eyr:2029 hcl:#341e13',\n",
       " 'ecl:blu byr:1959 hgt:191cm pid:195095631 iyr:2016 hcl:#ceb3a1 eyr:2028',\n",
       " 'byr:2001 ecl:gry hcl:#888785 iyr:2018 hgt:177cm pid:576714115',\n",
       " 'iyr:2017 byr:1949 ecl:blu hgt:186cm cid:289 pid:859016371 hcl:#ceb3a1 eyr:2021',\n",
       " 'byr:1999 hcl:#b6652a eyr:2023 hgt:175cm ecl:gry iyr:2013 cid:165 pid:194927609',\n",
       " 'hgt:70in eyr:2027 ecl:brn iyr:2012 pid:162238378 hcl:#ceb3a1 byr:1986',\n",
       " 'hgt:63in ecl:xry byr:2011 iyr:2024 hcl:5337b0',\n",
       " 'hcl:#341e13 eyr:2029 hgt:184cm ecl:amb iyr:2012 byr:1970',\n",
       " 'byr:1920 pid:472914751 eyr:2028 hgt:187cm hcl:#cfa07d cid:290 ecl:gry',\n",
       " 'byr:1948 ecl:gry eyr:2025 hgt:151cm cid:276 hcl:#6b5442 pid:937979267 iyr:2016',\n",
       " 'byr:1934 pid:626915978 hcl:#623a2f hgt:167cm ecl:gry iyr:2020 eyr:2023',\n",
       " 'byr:1949 hgt:68in eyr:2027 iyr:2019 hcl:#733820 ecl:brn cid:237 pid:057797826',\n",
       " 'pid:155cm hgt:68cm ecl:lzr hcl:z cid:344 eyr:2028 iyr:2020 byr:2017',\n",
       " 'byr:1959 hcl:#341e13 eyr:2022 iyr:2019 pid:728703569 hgt:167cm ecl:oth',\n",
       " 'ecl:grn eyr:2024 byr:1999 pid:566956828 iyr:2015 cid:293 hcl:#602927 hgt:192cm',\n",
       " 'byr:1939 ecl:xry pid:929512270 hgt:66in iyr:1939 eyr:2030 hcl:#efcc98',\n",
       " 'eyr:2026 iyr:2014 pid:176cm hcl:#fffffd ecl:gry hgt:151cm byr:1933 cid:256',\n",
       " 'ecl:oth eyr:2025 iyr:2017 hgt:159cm pid:055267863 cid:55 byr:2001 hcl:#cfa07d',\n",
       " 'eyr:2029 byr:1954 ecl:hzl cid:123 iyr:2020 hgt:192cm hcl:#866857 pid:225593536',\n",
       " 'pid:320274514 cid:289 byr:1963 eyr:1942 ecl:gmt hcl:z hgt:167in iyr:2022',\n",
       " 'byr:2013 ecl:gmt iyr:2011 hcl:#733820 pid:#e7962f hgt:178cm eyr:2029',\n",
       " 'pid:154cm ecl:hzl eyr:2035 byr:2023 cid:104 iyr:2026',\n",
       " 'eyr:2024 ecl:hzl hcl:#7d3b0c iyr:2010 pid:105864164 byr:1955 hgt:163cm',\n",
       " 'eyr:2021 hgt:151cm iyr:2017 hcl:#c0946f ecl:amb cid:150 pid:296798563 byr:1953',\n",
       " 'iyr:2012 byr:1990 hcl:#341e13 pid:189449931 eyr:2024 hgt:64in',\n",
       " 'hcl:z cid:79 byr:2028 eyr:2028 pid:886152432 ecl:#ce0596 hgt:178cm iyr:2029',\n",
       " 'ecl:brn iyr:2019 hgt:151cm hcl:#341e13 byr:1969 pid:468846056 eyr:2022',\n",
       " 'ecl:grn hgt:157cm iyr:2012 eyr:2020 hcl:#b6652a cid:338 byr:1954 pid:153867580',\n",
       " 'iyr:2011 eyr:2027 byr:1935 hgt:151cm ecl:blu pid:802665934 cid:276 hcl:#623a2f',\n",
       " 'hcl:#efcc98 eyr:2026 ecl:amb iyr:2014 pid:320160032 hgt:157cm byr:1976',\n",
       " 'eyr:2021 cid:172 iyr:2012 ecl:oth hgt:187cm pid:432856831 byr:2001 hcl:#733820',\n",
       " 'eyr:2028 ecl:amb hcl:#efcc98 iyr:2020 byr:1954 hgt:153cm',\n",
       " 'byr:1930 ecl:brn hcl:#fffffd pid:458840035 hgt:178cm eyr:2021 iyr:2011 cid:336',\n",
       " 'pid:216876576 hcl:#341e13 eyr:2028 iyr:2018 hgt:177cm byr:1938 ecl:brn cid:214',\n",
       " 'byr:2029 eyr:1987 hgt:75cm pid:193cm hcl:#b6652a cid:246 iyr:2028',\n",
       " 'ecl:hzl hgt:151cm hcl:#7d3b0c eyr:2030 pid:910999919 iyr:2019 byr:1956',\n",
       " 'byr:1950 cid:95 iyr:2013 ecl:grn eyr:2020 hcl:#623a2f pid:603817559 hgt:159cm',\n",
       " 'pid:913791667 iyr:2018 byr:1959 hcl:#a97842 hgt:179cm eyr:2029 ecl:gry',\n",
       " 'hgt:71in ecl:blu eyr:2028 hcl:#18171d byr:1937 iyr:2011 pid:951572571',\n",
       " 'hcl:#b6652a iyr:2015 hgt:170cm ecl:blu cid:292 byr:1977 pid:475457579 eyr:2020',\n",
       " 'ecl:amb eyr:2029 pid:530769382 iyr:2018 cid:53 hgt:63in byr:1954 hcl:#07de91',\n",
       " 'hcl:#cfa07d hgt:185cm byr:1929 iyr:2011 eyr:2027',\n",
       " 'iyr:2019 ecl:oth byr:2023 hcl:#341e13 pid:879919037 eyr:2030 hgt:174cm',\n",
       " 'hcl:z hgt:182cm ecl:grn iyr:2010 eyr:2020 pid:2063425865 cid:182 byr:2019',\n",
       " 'byr:1930 hgt:185cm pid:412694897 eyr:2025 ecl:brn iyr:2020 hcl:#a97842',\n",
       " 'hgt:150cm byr:1955 eyr:2020 cid:149 pid:597600808 hcl:#ceb3a1 ecl:hzl',\n",
       " 'pid:209568495 eyr:2026 byr:1928 hcl:#341e13 hgt:183cm ecl:brn iyr:2011',\n",
       " 'pid:723789670 ecl:blu iyr:2013 byr:1933 cid:239 hcl:#7d3b0c eyr:2026 hgt:151cm',\n",
       " 'byr:1978 eyr:2027 hgt:164cm pid:009071063 hcl:#602927 iyr:2014 ecl:blu',\n",
       " 'hcl:#18171d ecl:grn hgt:154cm cid:154 iyr:2016 byr:1952 pid:730027149 eyr:2024',\n",
       " 'eyr:2025 hcl:#888785 iyr:2013 cid:90 byr:1975 ecl:grn pid:619198428 hgt:161cm',\n",
       " 'ecl:gry iyr:2013 pid:795604673 cid:198 byr:1962 hcl:#6b5442 hgt:64in eyr:2021',\n",
       " 'hcl:#ceb3a1 ecl:oth iyr:2015 eyr:2021 pid:920586799 cid:302 hgt:60in byr:1964',\n",
       " 'eyr:2021 ecl:gry iyr:2019 hcl:#6b5442 hgt:192cm byr:1996 pid:692698177',\n",
       " 'ecl:grn pid:141369492 byr:1956 eyr:2028 hcl:#6b5442 hgt:190cm iyr:2014',\n",
       " 'hcl:#6b5442 ecl:grn iyr:2020 hgt:153cm pid:312738382 eyr:2028 byr:1985',\n",
       " 'byr:1979 eyr:2021 ecl:gry hgt:175cm pid:787676021 cid:81 hcl:#b6652a iyr:2012',\n",
       " 'cid:80 hgt:188cm byr:1964 pid:105773060 iyr:2014 hcl:#733820 ecl:gry eyr:2028',\n",
       " 'byr:1960 pid:251870522 iyr:2018 hgt:168cm ecl:blu hcl:#c0946f eyr:2026',\n",
       " 'cid:270 pid:#5661f0 hgt:182in ecl:dne byr:1930 hcl:z iyr:2026',\n",
       " 'hcl:#888785 byr:1954 pid:170544716 eyr:2028 hgt:162cm cid:244 iyr:2014 ecl:grn',\n",
       " 'iyr:2017 hgt:69in ecl:hzl pid:544135985 hcl:#ceb3a1 eyr:2020',\n",
       " 'hcl:92d4a1 iyr:2018 pid:178cm cid:347 hgt:97 eyr:2017 ecl:gmt byr:2004',\n",
       " 'ecl:oth iyr:2018 hcl:#fffffd byr:1999 pid:853396129 cid:119 eyr:2026 hgt:178cm',\n",
       " 'hgt:69in hcl:#fffffd eyr:2026 byr:1922 iyr:2010 ecl:oth pid:664840386',\n",
       " 'hgt:178cm byr:2000 iyr:2013 hcl:#cfa07d eyr:2028 pid:842454291 ecl:amb',\n",
       " 'ecl:hzl hcl:#733820 pid:316835287 byr:1998 eyr:2024 iyr:2015 hgt:165cm',\n",
       " 'pid:684064750 byr:1928 ecl:gry iyr:2015 cid:343 hgt:189cm hcl:#4c6cb4 eyr:2020',\n",
       " 'byr:1923 hcl:#a97842 eyr:2024 ecl:gry pid:095911913 hgt:185cm iyr:2010',\n",
       " 'ecl:hzl byr:1996 eyr:2023 hgt:177cm hcl:#b6652a pid:011541746 iyr:2011',\n",
       " 'hcl:#efcc98 iyr:2014 ecl:oth byr:1942 pid:730960830 hgt:183cm eyr:2025',\n",
       " 'byr:1939 eyr:2029 ecl:amb hcl:#fffffd hgt:188cm pid:732730418 iyr:2013 cid:313',\n",
       " 'hgt:164cm cid:217 byr:1985 hcl:#888785 eyr:2020 iyr:2014 ecl:oth pid:071172789',\n",
       " 'eyr:2024 pid:215897274 ecl:#c67898 byr:1972 hcl:#866857 iyr:2010 hgt:170cm cid:310',\n",
       " 'ecl:hzl pid:030118892 byr:1941 hgt:158cm hcl:#b6652a eyr:2029 iyr:2012',\n",
       " 'ecl:gry hcl:#c0946f hgt:166cm pid:604313781 byr:1924 eyr:2023 iyr:2020',\n",
       " 'hcl:#602927 hgt:168cm eyr:2027 ecl:brn pid:764635418 byr:1968 iyr:2010',\n",
       " 'pid:157933284 ecl:grn eyr:2030 byr:2000 hgt:81 hcl:z',\n",
       " 'hcl:#ec24d1 pid:647881680 byr:1922 hgt:178cm iyr:2020 ecl:amb eyr:2021 cid:94',\n",
       " 'ecl:hzl byr:1971 iyr:2018 pid:975690657 eyr:2027 hgt:192in cid:202 hcl:#c0946f',\n",
       " 'pid:678999378 hgt:61in byr:1981 hcl:#cfa07d eyr:2029 iyr:2014 ecl:oth',\n",
       " 'eyr:2022 iyr:2012 ecl:grn pid:883419125 hcl:#ceb3a1 cid:136 hgt:75in byr:1952',\n",
       " 'iyr:2018 hgt:185cm byr:1985 pid:119464380 eyr:2028 hcl:#623a2f ecl:gry',\n",
       " 'eyr:2025 hcl:#ceb3a1 byr:1953 cid:277 hgt:164cm iyr:2010 pid:574253234',\n",
       " 'cid:252 ecl:amb pid:594663323 hgt:75in hcl:#cfa07d iyr:2019 eyr:2026 byr:1964',\n",
       " 'iyr:2026 hcl:z pid:60117235 ecl:lzr byr:2016 hgt:156in eyr:1994',\n",
       " 'pid:448392350 eyr:2022 hcl:#a97842 hgt:157cm ecl:hzl iyr:2018 byr:1973',\n",
       " 'ecl:brn byr:1951 eyr:2028 hcl:#7d3b0c iyr:2018 hgt:164cm',\n",
       " 'hgt:156cm byr:1963 iyr:2014 eyr:2020 ecl:blu hcl:#ceb3a1 pid:#a87d16',\n",
       " 'pid:447170366 ecl:blu hcl:#888785 iyr:2012 cid:236 hgt:167cm eyr:2022 byr:1942',\n",
       " 'hcl:#623a2f eyr:2020 iyr:2017 cid:128 ecl:amb pid:279550425 byr:1983 hgt:154cm',\n",
       " 'byr:2014 eyr:2034 hgt:176in hcl:z ecl:#d4e521 pid:3629053477 cid:177 iyr:1970',\n",
       " 'pid:30370825 byr:1966 eyr:2026 iyr:2026 hcl:#866857 cid:346 ecl:#f7c189',\n",
       " 'iyr:2010 pid:271066119 eyr:2023 hcl:#efcc98 hgt:179cm byr:1956',\n",
       " 'byr:1966 hgt:156cm pid:977897485 cid:287 iyr:2011 hcl:#b6652a ecl:amb eyr:2029',\n",
       " 'cid:211 ecl:gmt byr:2017 hcl:z eyr:2029 hgt:180in iyr:2021 pid:81920053',\n",
       " 'byr:2019 pid:5229927737 hcl:75b4f1 hgt:146 iyr:2026 ecl:#92cf7d eyr:2032',\n",
       " 'eyr:2027 pid:604671573 ecl:hzl hgt:189cm byr:1979 hcl:#efcc98 iyr:2020',\n",
       " 'iyr:2018 cid:192 eyr:2029 ecl:grn pid:653764645 hgt:179cm hcl:#341e13 byr:1927',\n",
       " 'byr:2012 iyr:2015 hcl:#b6652a pid:168500059 eyr:2038 cid:234 hgt:191cm ecl:zzz',\n",
       " 'ecl:gry hcl:#623a2f byr:1925 iyr:2016 eyr:2028 cid:157 hgt:154cm pid:196280865',\n",
       " 'cid:319 pid:928322396 ecl:gry byr:1949 eyr:2028 hcl:#341e13 hgt:171cm iyr:2018',\n",
       " 'byr:2023 iyr:1953 hgt:154cm ecl:dne hcl:#888785 pid:066246061 eyr:1983',\n",
       " 'hcl:z iyr:2016 byr:1986 ecl:utc hgt:179cm eyr:2019 pid:583251408',\n",
       " 'ecl:amb iyr:2014 pid:499004360 byr:1927 eyr:2021 hgt:193cm hcl:#ceb3a1',\n",
       " 'pid:631303194 ecl:gry hcl:#18171d cid:216 iyr:2019 eyr:2024 hgt:178cm',\n",
       " 'hcl:#341e13 cid:201 byr:1949 iyr:2019 ecl:gry pid:372356205 eyr:2024',\n",
       " 'hcl:#18171d pid:867489359 hgt:185cm iyr:2020 ecl:amb eyr:2030 byr:1955',\n",
       " 'byr:1991 ecl:brn eyr:2025 hgt:184cm iyr:2016 pid:202216365',\n",
       " 'ecl:xry pid:#524139 hgt:151cm hcl:z eyr:2031 byr:2030 iyr:2005',\n",
       " 'byr:1971 hgt:178cm ecl:amb hcl:#ceb3a1 iyr:2010 eyr:2026 pid:396974525',\n",
       " 'iyr:2014 hgt:177cm pid:928522073 eyr:2022 ecl:hzl hcl:#c0946f byr:1983',\n",
       " 'hgt:167cm hcl:#ceb3a1 iyr:2014 pid:172415447 eyr:2020 byr:1956',\n",
       " 'iyr:2011 hgt:188cm byr:1947 eyr:2020 pid:667108134 ecl:amb hcl:#44a86b',\n",
       " 'cid:302 ecl:brn pid:292483175 hgt:154cm byr:1997 eyr:2026 iyr:2014 hcl:#623a2f',\n",
       " 'hgt:171cm iyr:2014 hcl:z ecl:hzl pid:321513523 eyr:2027 cid:146 byr:2001',\n",
       " 'eyr:1956 ecl:dne hgt:75cm hcl:82e1fa iyr:2030 byr:2027',\n",
       " 'eyr:2020 iyr:2011 pid:656669479 ecl:oth hgt:151cm hcl:#efcc98 byr:1981',\n",
       " 'iyr:2013 byr:1934 pid:142890410 hgt:62in eyr:2022 hcl:#87cca4 ecl:hzl',\n",
       " 'pid:006232726 hgt:173cm ecl:hzl cid:110 eyr:2026 hcl:#866857 iyr:2017 byr:1992',\n",
       " 'cid:208 iyr:2014 ecl:brn eyr:2024 byr:1935 hgt:187cm hcl:#b6652a pid:770836724',\n",
       " 'iyr:2014 cid:144 hgt:169cm eyr:2022 ecl:oth pid:117575716 hcl:#fffffd byr:1926',\n",
       " 'byr:1971 ecl:brn hcl:#733820 eyr:1942 iyr:2013 pid:606274259 hgt:163cm cid:196',\n",
       " 'byr:1964 pid:997828217 eyr:2029 iyr:2017 ecl:blu hcl:#341e13 hgt:158cm',\n",
       " 'pid:568202531 hcl:#efcc98 hgt:154cm eyr:2029 iyr:2010 byr:1946 ecl:blu',\n",
       " 'iyr:2011 pid:619355919 byr:1955 ecl:brn hcl:#888785 eyr:2030 hgt:155cm',\n",
       " 'ecl:hzl pid:367152545 hgt:162cm cid:221 hcl:#866857 eyr:2024 byr:1997 iyr:2019',\n",
       " 'hgt:157in cid:268 hcl:32371d byr:2020 ecl:zzz pid:1081234390',\n",
       " 'ecl:hzl eyr:2026 byr:1969 pid:850482906 cid:166 hcl:#602927 hgt:60in iyr:2019',\n",
       " 'hcl:#c0946f hgt:176cm ecl:brn eyr:2026 iyr:2018 cid:172 byr:1986 pid:172963254',\n",
       " 'ecl:grn iyr:2016 hgt:187cm byr:1983 hcl:#efcc98 pid:722084344 eyr:2025',\n",
       " 'ecl:oth hcl:#341e13 pid:130312766 hgt:171cm iyr:2018 byr:1927 eyr:2024',\n",
       " 'byr:2021 hgt:152cm hcl:74dda6 eyr:1984 cid:216 iyr:2018 pid:95283942',\n",
       " 'hcl:#b6652a pid:924778815 iyr:2017 ecl:gry eyr:2035 hgt:68cm',\n",
       " 'iyr:2010 hcl:#efcc98 ecl:brn eyr:2020 pid:801894599 hgt:163cm byr:1959',\n",
       " 'pid:798701070 eyr:2030 hcl:#866857 ecl:hzl hgt:169cm byr:1994 cid:219 iyr:2010',\n",
       " 'pid:#e9b41b hcl:#341e13 byr:1970 iyr:2014 ecl:oth cid:266 hgt:68cm eyr:2023',\n",
       " 'byr:1931 pid:929960843 hgt:187cm hcl:#6b5442 cid:52 iyr:2010 eyr:2024 ecl:brn',\n",
       " 'iyr:2017 byr:1974 ecl:hzl cid:243 pid:66053995 hgt:147 eyr:1920 hcl:z',\n",
       " 'iyr:2012 byr:1962 ecl:brn pid:773399437 hcl:#341e13 eyr:2026',\n",
       " 'pid:738442771 hgt:186cm eyr:2027 hcl:#efcc98 iyr:2013 ecl:brn byr:1928',\n",
       " 'pid:855794198 ecl:oth hgt:67in cid:81 iyr:2011 hcl:#b6652a eyr:2020 byr:1921',\n",
       " 'hcl:176abf hgt:161in byr:2002 iyr:2016 eyr:2027 pid:639047770 ecl:brn cid:178',\n",
       " 'pid:335686451 hcl:#86c240 iyr:2017 hgt:190cm byr:1968 ecl:amb',\n",
       " 'hgt:150cm hcl:094a87 ecl:#09c463 eyr:1926 pid:537511570 byr:2009 iyr:1998',\n",
       " 'hgt:74in pid:927963411 eyr:2026 ecl:gry cid:323 iyr:2012 hcl:#fffffd byr:1959',\n",
       " 'iyr:2018 byr:1978 hcl:#ff1829 eyr:2023 pid:823129853 ecl:hzl hgt:65in',\n",
       " 'pid:189cm ecl:#00391e hgt:72cm hcl:11050f byr:2029 eyr:1994 iyr:1935 cid:186',\n",
       " 'ecl:grn byr:1942 pid:217290710 hgt:181cm eyr:2021 hcl:#7d3b0c iyr:2019 cid:320',\n",
       " 'byr:1983 iyr:2013 cid:122 hcl:#ceb3a1 eyr:2030 hgt:59in ecl:grn pid:946451564',\n",
       " 'ecl:amb cid:236 hgt:184cm hcl:#cfa07d iyr:2017 pid:934730535 eyr:2021 byr:2002',\n",
       " 'byr:1950 ecl:hzl eyr:2030 hcl:#623a2f pid:742249321 hgt:158cm iyr:2018',\n",
       " 'byr:1946 eyr:2021 hcl:#a97842 pid:204671558 ecl:grn iyr:2010 hgt:187cm',\n",
       " 'hcl:#b6652a pid:528124882 hgt:162cm byr:1924 ecl:amb iyr:2027 cid:157 eyr:2028',\n",
       " 'hgt:180cm iyr:2013 byr:1926 pid:232265934 hcl:#602927 ecl:oth',\n",
       " 'byr:1984 ecl:brn iyr:2016 pid:756596443 eyr:2030 hcl:#7d3b0c hgt:183cm',\n",
       " 'hgt:185cm hcl:#fffffd byr:1991 eyr:2023 iyr:2014 ecl:amb pid:759105859',\n",
       " 'cid:82 iyr:2012 hgt:160cm eyr:2022 pid:593798464 ecl:gry hcl:#4e7571 byr:1983',\n",
       " 'pid:478427550 iyr:2010 ecl:amb byr:1969 hgt:68in cid:94 eyr:2021 hcl:#866857',\n",
       " 'ecl:amb iyr:2019 byr:1986 hgt:170cm hcl:#c0946f pid:779205106 eyr:2027',\n",
       " 'ecl:brn eyr:2025 byr:1925 hcl:#7d3b0c hgt:76in pid:576353079 iyr:2010',\n",
       " 'hgt:175cm hcl:4bf5ae ecl:amb eyr:2029 pid:173cm cid:329 iyr:1952 byr:1972',\n",
       " 'ecl:grn eyr:2030 iyr:2015 hcl:#c0946f byr:1989 hgt:178cm pid:287209519',\n",
       " 'pid:834505198 byr:1985 ecl:gry eyr:2024 cid:295 hgt:169cm iyr:2017',\n",
       " 'hgt:170cm pid:054644831 eyr:2023 iyr:1949 ecl:amb hcl:#888785 byr:1955',\n",
       " 'hgt:171cm pid:947263309 iyr:2015 byr:1944 eyr:2027 ecl:grn cid:79 hcl:#341e13',\n",
       " 'eyr:1982 cid:147 iyr:2015 hgt:70cm hcl:a77c10 ecl:zzz byr:2007 pid:161cm',\n",
       " 'ecl:gry byr:1933 hcl:#c0946f pid:483275512 iyr:2012 eyr:2025 hgt:161cm',\n",
       " 'eyr:1985 hgt:176cm hcl:7b6ddc iyr:2012 cid:326 byr:1973 pid:929418396 ecl:gmt',\n",
       " 'ecl:gry byr:1971 hgt:184cm eyr:2027 hcl:#3adf2c iyr:2017 cid:210 pid:693561862',\n",
       " 'eyr:2021 pid:779298835 byr:1921 hgt:193cm ecl:amb iyr:2016 hcl:#ceb3a1',\n",
       " 'hcl:4a1444 byr:2019 iyr:2024 hgt:182in cid:87 ecl:#122264 pid:181cm eyr:1927',\n",
       " 'cid:267 ecl:amb eyr:2020 byr:2000 hcl:#18171d iyr:2012 hgt:190cm pid:18525759',\n",
       " 'ecl:oth byr:1988 iyr:2019 pid:660570833 hcl:#866857 hgt:176cm',\n",
       " 'eyr:2030 hcl:#866857 byr:1967 cid:316 pid:560346474 iyr:2015 hgt:160cm ecl:gry',\n",
       " 'ecl:hzl iyr:2014 hgt:164cm hcl:#733820 eyr:2025 pid:106302413 byr:1920',\n",
       " 'iyr:2016 pid:515066491 ecl:grn eyr:2026 hgt:179cm hcl:#b6652a byr:1982',\n",
       " 'ecl:#7de6a0 iyr:2004 eyr:1955 hgt:154cm cid:138 byr:2004 pid:758934555 hcl:a21980',\n",
       " 'pid:#2a21e0 ecl:#1b9b27 hgt:165in byr:1998 iyr:2014 eyr:2032',\n",
       " 'eyr:2021 hgt:184cm pid:431054313 hcl:#ceb3a1 cid:109 byr:1977 ecl:blu iyr:2011',\n",
       " 'pid:006339126 hgt:177cm cid:188 hcl:#a97842 iyr:1959 ecl:xry',\n",
       " 'byr:2000 ecl:hzl eyr:2029 iyr:2011 hcl:#866857 hgt:74in']"
      ]
     },
     "execution_count": 100,
     "metadata": {},
     "output_type": "execute_result"
    }
   ],
   "source": [
    "raw"
   ]
  },
  {
   "cell_type": "code",
   "execution_count": 101,
   "metadata": {},
   "outputs": [],
   "source": [
    "data = pd.DataFrame(columns=['byr','iyr','eyr', 'hgt', 'hcl', 'ecl', 'pid','cid'])"
   ]
  },
  {
   "cell_type": "code",
   "execution_count": 102,
   "metadata": {},
   "outputs": [],
   "source": [
    "for passport in raw : \n",
    "    passport = passport.split(' ')\n",
    "    dic = {}\n",
    "    for info in passport : \n",
    "        #print(info,info.split(':'))\n",
    "        dic[info.split(':')[0]] = info.split(':')[1]\n",
    "    data = data.append(dic,ignore_index=True)"
   ]
  },
  {
   "cell_type": "code",
   "execution_count": 103,
   "metadata": {},
   "outputs": [
    {
     "name": "stdout",
     "output_type": "stream",
     "text": [
      "(290, 7)\n"
     ]
    }
   ],
   "source": [
    "data.drop('cid', axis = 1, inplace = True)\n",
    "print(data.shape)"
   ]
  },
  {
   "cell_type": "code",
   "execution_count": 104,
   "metadata": {},
   "outputs": [],
   "source": [
    "data.dropna(axis=0,inplace=True)"
   ]
  },
  {
   "cell_type": "code",
   "execution_count": 105,
   "metadata": {},
   "outputs": [
    {
     "name": "stdout",
     "output_type": "stream",
     "text": [
      "There is a total of 237 valid passport for part 1\n"
     ]
    }
   ],
   "source": [
    "print('There is a total of {} valid passport for part 1'.format(data.shape[0]))"
   ]
  },
  {
   "cell_type": "code",
   "execution_count": 106,
   "metadata": {},
   "outputs": [
    {
     "data": {
      "text/html": [
       "<div>\n",
       "<style scoped>\n",
       "    .dataframe tbody tr th:only-of-type {\n",
       "        vertical-align: middle;\n",
       "    }\n",
       "\n",
       "    .dataframe tbody tr th {\n",
       "        vertical-align: top;\n",
       "    }\n",
       "\n",
       "    .dataframe thead th {\n",
       "        text-align: right;\n",
       "    }\n",
       "</style>\n",
       "<table border=\"1\" class=\"dataframe\">\n",
       "  <thead>\n",
       "    <tr style=\"text-align: right;\">\n",
       "      <th></th>\n",
       "      <th>byr</th>\n",
       "      <th>iyr</th>\n",
       "      <th>eyr</th>\n",
       "      <th>hgt</th>\n",
       "      <th>hcl</th>\n",
       "      <th>ecl</th>\n",
       "      <th>pid</th>\n",
       "    </tr>\n",
       "  </thead>\n",
       "  <tbody>\n",
       "    <tr>\n",
       "      <th>count</th>\n",
       "      <td>237</td>\n",
       "      <td>237</td>\n",
       "      <td>237</td>\n",
       "      <td>237</td>\n",
       "      <td>237</td>\n",
       "      <td>237</td>\n",
       "      <td>237</td>\n",
       "    </tr>\n",
       "    <tr>\n",
       "      <th>unique</th>\n",
       "      <td>97</td>\n",
       "      <td>32</td>\n",
       "      <td>37</td>\n",
       "      <td>84</td>\n",
       "      <td>52</td>\n",
       "      <td>28</td>\n",
       "      <td>236</td>\n",
       "    </tr>\n",
       "    <tr>\n",
       "      <th>top</th>\n",
       "      <td>1955</td>\n",
       "      <td>2014</td>\n",
       "      <td>2026</td>\n",
       "      <td>151cm</td>\n",
       "      <td>z</td>\n",
       "      <td>grn</td>\n",
       "      <td>155cm</td>\n",
       "    </tr>\n",
       "    <tr>\n",
       "      <th>freq</th>\n",
       "      <td>6</td>\n",
       "      <td>31</td>\n",
       "      <td>25</td>\n",
       "      <td>13</td>\n",
       "      <td>19</td>\n",
       "      <td>34</td>\n",
       "      <td>2</td>\n",
       "    </tr>\n",
       "  </tbody>\n",
       "</table>\n",
       "</div>"
      ],
      "text/plain": [
       "         byr   iyr   eyr    hgt  hcl  ecl    pid\n",
       "count    237   237   237    237  237  237    237\n",
       "unique    97    32    37     84   52   28    236\n",
       "top     1955  2014  2026  151cm    z  grn  155cm\n",
       "freq       6    31    25     13   19   34      2"
      ]
     },
     "execution_count": 106,
     "metadata": {},
     "output_type": "execute_result"
    }
   ],
   "source": [
    "data.describe()"
   ]
  },
  {
   "cell_type": "code",
   "execution_count": 107,
   "metadata": {},
   "outputs": [
    {
     "name": "stdout",
     "output_type": "stream",
     "text": [
      "(237, 7) \n",
      " byr    object\n",
      "iyr    object\n",
      "eyr    object\n",
      "hgt    object\n",
      "hcl    object\n",
      "ecl    object\n",
      "pid    object\n",
      "dtype: object\n"
     ]
    }
   ],
   "source": [
    "print(data.shape,'\\n' ,data.dtypes)"
   ]
  },
  {
   "cell_type": "code",
   "execution_count": 108,
   "metadata": {},
   "outputs": [],
   "source": [
    "data['byr'] = data['byr'].astype(int)\n",
    "data['iyr'] = data['iyr'].astype(int)\n",
    "data['eyr'] = data['eyr'].astype(int)"
   ]
  },
  {
   "cell_type": "code",
   "execution_count": 109,
   "metadata": {},
   "outputs": [
    {
     "data": {
      "text/html": [
       "<div>\n",
       "<style scoped>\n",
       "    .dataframe tbody tr th:only-of-type {\n",
       "        vertical-align: middle;\n",
       "    }\n",
       "\n",
       "    .dataframe tbody tr th {\n",
       "        vertical-align: top;\n",
       "    }\n",
       "\n",
       "    .dataframe thead th {\n",
       "        text-align: right;\n",
       "    }\n",
       "</style>\n",
       "<table border=\"1\" class=\"dataframe\">\n",
       "  <thead>\n",
       "    <tr style=\"text-align: right;\">\n",
       "      <th></th>\n",
       "      <th>byr</th>\n",
       "      <th>iyr</th>\n",
       "      <th>eyr</th>\n",
       "      <th>hgt</th>\n",
       "      <th>hcl</th>\n",
       "      <th>ecl</th>\n",
       "      <th>pid</th>\n",
       "    </tr>\n",
       "  </thead>\n",
       "  <tbody>\n",
       "    <tr>\n",
       "      <th>0</th>\n",
       "      <td>1926</td>\n",
       "      <td>2010</td>\n",
       "      <td>2021</td>\n",
       "      <td>186cm</td>\n",
       "      <td>#7d3b0c</td>\n",
       "      <td>hzl</td>\n",
       "      <td>221225902</td>\n",
       "    </tr>\n",
       "    <tr>\n",
       "      <th>1</th>\n",
       "      <td>1926</td>\n",
       "      <td>2010</td>\n",
       "      <td>2020</td>\n",
       "      <td>178</td>\n",
       "      <td>#efcc98</td>\n",
       "      <td>blu</td>\n",
       "      <td>433543520</td>\n",
       "    </tr>\n",
       "    <tr>\n",
       "      <th>2</th>\n",
       "      <td>1946</td>\n",
       "      <td>2018</td>\n",
       "      <td>2026</td>\n",
       "      <td>158cm</td>\n",
       "      <td>#b6652a</td>\n",
       "      <td>brn</td>\n",
       "      <td>822320101</td>\n",
       "    </tr>\n",
       "    <tr>\n",
       "      <th>3</th>\n",
       "      <td>2008</td>\n",
       "      <td>2010</td>\n",
       "      <td>1937</td>\n",
       "      <td>138</td>\n",
       "      <td>z</td>\n",
       "      <td>grn</td>\n",
       "      <td>21019503</td>\n",
       "    </tr>\n",
       "    <tr>\n",
       "      <th>4</th>\n",
       "      <td>2018</td>\n",
       "      <td>2019</td>\n",
       "      <td>1990</td>\n",
       "      <td>176in</td>\n",
       "      <td>z</td>\n",
       "      <td>#d06796</td>\n",
       "      <td>153cm</td>\n",
       "    </tr>\n",
       "  </tbody>\n",
       "</table>\n",
       "</div>"
      ],
      "text/plain": [
       "    byr   iyr   eyr    hgt      hcl      ecl        pid\n",
       "0  1926  2010  2021  186cm  #7d3b0c      hzl  221225902\n",
       "1  1926  2010  2020    178  #efcc98      blu  433543520\n",
       "2  1946  2018  2026  158cm  #b6652a      brn  822320101\n",
       "3  2008  2010  1937    138        z      grn   21019503\n",
       "4  2018  2019  1990  176in        z  #d06796      153cm"
      ]
     },
     "execution_count": 109,
     "metadata": {},
     "output_type": "execute_result"
    }
   ],
   "source": [
    "data.head()"
   ]
  },
  {
   "cell_type": "code",
   "execution_count": 110,
   "metadata": {},
   "outputs": [],
   "source": [
    "# Putting one filter per condition\n",
    "data = data[ 1920 <= data['byr'] ]\n",
    "data = data[ data['byr'] <= 2002 ]\n",
    "\n",
    "data = data[ 2010 <= data['iyr'] ]\n",
    "data = data[ data['iyr'] <= 2020 ]\n",
    "\n",
    "data = data[ 2020 <= data['eyr'] ]\n",
    "data = data[ data['eyr'] <= 2030 ]\n"
   ]
  },
  {
   "cell_type": "code",
   "execution_count": 112,
   "metadata": {},
   "outputs": [],
   "source": [
    "# For the other characteristics, must do differently\n",
    "valid_ecl = ['amb', 'blu', 'brn', 'gry', 'grn', 'hzl', 'oth']\n",
    "\n",
    "for ind in data.index : \n",
    "    to_drop = False\n",
    "    # Looking for invalid height\n",
    "    if data['hgt'][ind][-2:]=='cm':\n",
    "        if (150 <= int(data['hgt'][ind][:-2]) ) and ( int(data['hgt'][ind][:-2]) <= 193) :\n",
    "            pass\n",
    "        else : \n",
    "            to_drop = True\n",
    "    elif data['hgt'][ind][-2:]=='in':\n",
    "        if (59 <= int(data['hgt'][ind][:-2]) ) and ( int(data['hgt'][ind][:-2]) <= 76) :\n",
    "            pass\n",
    "        else : \n",
    "            to_drop = True\n",
    "    else :\n",
    "        to_drop = True\n",
    "        \n",
    "        \n",
    "    # Looking for invalid hair color \n",
    "    if (data['hcl'][ind][0]=='#' and len(re.findall('[0-9A-Fa-f]',data['hcl'][ind] )) == 6) :\n",
    "        pass\n",
    "    else : \n",
    "        to_drop = True\n",
    "        \n",
    "    # Looking for invalid eye color \n",
    "    if data['ecl'][ind] in valid_ecl : \n",
    "        pass\n",
    "    else : \n",
    "        to_drop = True\n",
    "    \n",
    "    # Looking for invalid pid \n",
    "    if len(re.findall('[0-9A-Fa-f]', data['pid'][ind] )) == 9 :\n",
    "        pass\n",
    "    else :\n",
    "        to_drop = True\n",
    "        \n",
    "    if to_drop : data.drop(ind, axis = 0, inplace = True)"
   ]
  },
  {
   "cell_type": "code",
   "execution_count": 113,
   "metadata": {},
   "outputs": [
    {
     "name": "stdout",
     "output_type": "stream",
     "text": [
      "The number of valid passport after part 2 is 172\n"
     ]
    }
   ],
   "source": [
    "print('The number of valid passport after part 2 is', data.shape[0])"
   ]
  },
  {
   "cell_type": "code",
   "execution_count": 91,
   "metadata": {},
   "outputs": [
    {
     "name": "stdout",
     "output_type": "stream",
     "text": [
      "oui\n"
     ]
    }
   ],
   "source": [
    "ind = 0\n",
    "if len(re.findall('[0-9A-Fa-f]', data['pid'][ind] )) == 9 :\n",
    "    print('oui')"
   ]
  },
  {
   "cell_type": "code",
   "execution_count": 79,
   "metadata": {},
   "outputs": [
    {
     "data": {
      "text/plain": [
       "8"
      ]
     },
     "execution_count": 79,
     "metadata": {},
     "output_type": "execute_result"
    }
   ],
   "source": [
    "len(re.findall('[0-9A-Fa-f]', 'aas30d@sa20'))"
   ]
  },
  {
   "cell_type": "markdown",
   "metadata": {},
   "source": [
    "# Day 5"
   ]
  },
  {
   "cell_type": "code",
   "execution_count": 187,
   "metadata": {},
   "outputs": [],
   "source": [
    "file_path = root_dir+'inputs/input_5.txt'\n",
    "\n",
    "if os.path.exists(file_path):\n",
    "    data = pd.read_csv(file_path,sep = '\\n', header = None)"
   ]
  },
  {
   "cell_type": "code",
   "execution_count": 188,
   "metadata": {},
   "outputs": [],
   "source": [
    "data.columns = ['spec']"
   ]
  },
  {
   "cell_type": "code",
   "execution_count": 189,
   "metadata": {},
   "outputs": [],
   "source": [
    "def row_to_binary(raw_row):\n",
    "    bin_row = re.sub('F','0',raw_row)\n",
    "    bin_row = re.sub('B','1',bin_row)\n",
    "    \n",
    "    return bin_row\n",
    "\n",
    "def col_to_binary(raw_col):\n",
    "    bin_col = re.sub('R','1',raw_col)\n",
    "    bin_col = re.sub('L','0',bin_col)\n",
    "    return bin_col\n",
    "\n",
    "def bin_to_num(binary):\n",
    "    summ = 0\n",
    "    binary = binary[::-1]\n",
    "    for i in range(len(binary)) : \n",
    "        summ += int(binary[i])*2**i\n",
    "    return summ\n",
    "\n",
    "def convert_spec(spec):\n",
    "    raw_row = spec[:7]\n",
    "    raw_col = spec[7:]\n",
    "    \n",
    "    bin_row = row_to_binary(raw_row)\n",
    "    bin_col = col_to_binary(raw_col)\n",
    "    \n",
    "    row = bin_to_num(bin_row)\n",
    "    col = bin_to_num(bin_col)\n",
    "    #print('raw:',raw_row,raw_col)\n",
    "    #print('bin:',bin_row,bin_col)\n",
    "    #print('num:',row,col)\n",
    "    return row,col\n",
    "    "
   ]
  },
  {
   "cell_type": "code",
   "execution_count": 190,
   "metadata": {},
   "outputs": [],
   "source": [
    "cols = []\n",
    "rows = []\n",
    "for raw in data['spec']:\n",
    "    conv = convert_spec(raw)\n",
    "    rows.append(conv[0])\n",
    "    cols.append(conv[1])\n",
    "data['row'] = rows\n",
    "data['col'] = cols\n",
    "data['seatID'] = 8*data['row']+data['col']"
   ]
  },
  {
   "cell_type": "code",
   "execution_count": 191,
   "metadata": {},
   "outputs": [
    {
     "data": {
      "text/html": [
       "<div>\n",
       "<style scoped>\n",
       "    .dataframe tbody tr th:only-of-type {\n",
       "        vertical-align: middle;\n",
       "    }\n",
       "\n",
       "    .dataframe tbody tr th {\n",
       "        vertical-align: top;\n",
       "    }\n",
       "\n",
       "    .dataframe thead th {\n",
       "        text-align: right;\n",
       "    }\n",
       "</style>\n",
       "<table border=\"1\" class=\"dataframe\">\n",
       "  <thead>\n",
       "    <tr style=\"text-align: right;\">\n",
       "      <th></th>\n",
       "      <th>spec</th>\n",
       "      <th>row</th>\n",
       "      <th>col</th>\n",
       "      <th>seatID</th>\n",
       "    </tr>\n",
       "  </thead>\n",
       "  <tbody>\n",
       "    <tr>\n",
       "      <th>0</th>\n",
       "      <td>FFBBBFFLRL</td>\n",
       "      <td>28</td>\n",
       "      <td>2</td>\n",
       "      <td>226</td>\n",
       "    </tr>\n",
       "    <tr>\n",
       "      <th>1</th>\n",
       "      <td>BFFBFBFRLR</td>\n",
       "      <td>74</td>\n",
       "      <td>5</td>\n",
       "      <td>597</td>\n",
       "    </tr>\n",
       "    <tr>\n",
       "      <th>2</th>\n",
       "      <td>FFFBBFBRRR</td>\n",
       "      <td>13</td>\n",
       "      <td>7</td>\n",
       "      <td>111</td>\n",
       "    </tr>\n",
       "    <tr>\n",
       "      <th>3</th>\n",
       "      <td>BFFBBBBRRL</td>\n",
       "      <td>79</td>\n",
       "      <td>6</td>\n",
       "      <td>638</td>\n",
       "    </tr>\n",
       "    <tr>\n",
       "      <th>4</th>\n",
       "      <td>FFFBBFBLLR</td>\n",
       "      <td>13</td>\n",
       "      <td>1</td>\n",
       "      <td>105</td>\n",
       "    </tr>\n",
       "    <tr>\n",
       "      <th>...</th>\n",
       "      <td>...</td>\n",
       "      <td>...</td>\n",
       "      <td>...</td>\n",
       "      <td>...</td>\n",
       "    </tr>\n",
       "    <tr>\n",
       "      <th>876</th>\n",
       "      <td>BFFFBBFLLR</td>\n",
       "      <td>70</td>\n",
       "      <td>1</td>\n",
       "      <td>561</td>\n",
       "    </tr>\n",
       "    <tr>\n",
       "      <th>877</th>\n",
       "      <td>FFFBFBFRLL</td>\n",
       "      <td>10</td>\n",
       "      <td>4</td>\n",
       "      <td>84</td>\n",
       "    </tr>\n",
       "    <tr>\n",
       "      <th>878</th>\n",
       "      <td>FFFBBBBRRR</td>\n",
       "      <td>15</td>\n",
       "      <td>7</td>\n",
       "      <td>127</td>\n",
       "    </tr>\n",
       "    <tr>\n",
       "      <th>879</th>\n",
       "      <td>FBFBBBFRRL</td>\n",
       "      <td>46</td>\n",
       "      <td>6</td>\n",
       "      <td>374</td>\n",
       "    </tr>\n",
       "    <tr>\n",
       "      <th>880</th>\n",
       "      <td>BFFFBBBRLR</td>\n",
       "      <td>71</td>\n",
       "      <td>5</td>\n",
       "      <td>573</td>\n",
       "    </tr>\n",
       "  </tbody>\n",
       "</table>\n",
       "<p>881 rows × 4 columns</p>\n",
       "</div>"
      ],
      "text/plain": [
       "           spec  row  col  seatID\n",
       "0    FFBBBFFLRL   28    2     226\n",
       "1    BFFBFBFRLR   74    5     597\n",
       "2    FFFBBFBRRR   13    7     111\n",
       "3    BFFBBBBRRL   79    6     638\n",
       "4    FFFBBFBLLR   13    1     105\n",
       "..          ...  ...  ...     ...\n",
       "876  BFFFBBFLLR   70    1     561\n",
       "877  FFFBFBFRLL   10    4      84\n",
       "878  FFFBBBBRRR   15    7     127\n",
       "879  FBFBBBFRRL   46    6     374\n",
       "880  BFFFBBBRLR   71    5     573\n",
       "\n",
       "[881 rows x 4 columns]"
      ]
     },
     "execution_count": 191,
     "metadata": {},
     "output_type": "execute_result"
    }
   ],
   "source": [
    "data"
   ]
  },
  {
   "cell_type": "code",
   "execution_count": 192,
   "metadata": {},
   "outputs": [
    {
     "data": {
      "text/html": [
       "<div>\n",
       "<style scoped>\n",
       "    .dataframe tbody tr th:only-of-type {\n",
       "        vertical-align: middle;\n",
       "    }\n",
       "\n",
       "    .dataframe tbody tr th {\n",
       "        vertical-align: top;\n",
       "    }\n",
       "\n",
       "    .dataframe thead th {\n",
       "        text-align: right;\n",
       "    }\n",
       "</style>\n",
       "<table border=\"1\" class=\"dataframe\">\n",
       "  <thead>\n",
       "    <tr style=\"text-align: right;\">\n",
       "      <th></th>\n",
       "      <th>row</th>\n",
       "      <th>col</th>\n",
       "      <th>seatID</th>\n",
       "    </tr>\n",
       "  </thead>\n",
       "  <tbody>\n",
       "    <tr>\n",
       "      <th>count</th>\n",
       "      <td>881.000000</td>\n",
       "      <td>881.000000</td>\n",
       "      <td>881.000000</td>\n",
       "    </tr>\n",
       "    <tr>\n",
       "      <th>mean</th>\n",
       "      <td>58.591373</td>\n",
       "      <td>3.491487</td>\n",
       "      <td>472.222474</td>\n",
       "    </tr>\n",
       "    <tr>\n",
       "      <th>std</th>\n",
       "      <td>31.846273</td>\n",
       "      <td>2.295298</td>\n",
       "      <td>254.767033</td>\n",
       "    </tr>\n",
       "    <tr>\n",
       "      <th>min</th>\n",
       "      <td>4.000000</td>\n",
       "      <td>0.000000</td>\n",
       "      <td>32.000000</td>\n",
       "    </tr>\n",
       "    <tr>\n",
       "      <th>25%</th>\n",
       "      <td>31.000000</td>\n",
       "      <td>1.000000</td>\n",
       "      <td>252.000000</td>\n",
       "    </tr>\n",
       "    <tr>\n",
       "      <th>50%</th>\n",
       "      <td>59.000000</td>\n",
       "      <td>3.000000</td>\n",
       "      <td>472.000000</td>\n",
       "    </tr>\n",
       "    <tr>\n",
       "      <th>75%</th>\n",
       "      <td>86.000000</td>\n",
       "      <td>5.000000</td>\n",
       "      <td>692.000000</td>\n",
       "    </tr>\n",
       "    <tr>\n",
       "      <th>max</th>\n",
       "      <td>114.000000</td>\n",
       "      <td>7.000000</td>\n",
       "      <td>913.000000</td>\n",
       "    </tr>\n",
       "  </tbody>\n",
       "</table>\n",
       "</div>"
      ],
      "text/plain": [
       "              row         col      seatID\n",
       "count  881.000000  881.000000  881.000000\n",
       "mean    58.591373    3.491487  472.222474\n",
       "std     31.846273    2.295298  254.767033\n",
       "min      4.000000    0.000000   32.000000\n",
       "25%     31.000000    1.000000  252.000000\n",
       "50%     59.000000    3.000000  472.000000\n",
       "75%     86.000000    5.000000  692.000000\n",
       "max    114.000000    7.000000  913.000000"
      ]
     },
     "execution_count": 192,
     "metadata": {},
     "output_type": "execute_result"
    }
   ],
   "source": [
    "data.describe()"
   ]
  },
  {
   "cell_type": "code",
   "execution_count": 195,
   "metadata": {},
   "outputs": [
    {
     "name": "stdout",
     "output_type": "stream",
     "text": [
      "On the list, the max seat ID is 913\n"
     ]
    }
   ],
   "source": [
    "print('On the list, the max seat ID is',np.max(data['seatID']))"
   ]
  },
  {
   "cell_type": "code",
   "execution_count": 216,
   "metadata": {},
   "outputs": [
    {
     "name": "stdout",
     "output_type": "stream",
     "text": [
      "The only seat left is  717\n"
     ]
    }
   ],
   "source": [
    "sorted_ID = np.sort(data['seatID'])\n",
    "for ind in range(1,len(sorted_ID)-1):\n",
    "    if not(sorted_ID[ind]-1 == sorted_ID[ind-1]):\n",
    "        print('The only seat left is ',sorted_ID[ind]-1)\n",
    "                    "
   ]
  },
  {
   "cell_type": "markdown",
   "metadata": {},
   "source": [
    "# Day 6"
   ]
  },
  {
   "cell_type": "code",
   "execution_count": 272,
   "metadata": {},
   "outputs": [],
   "source": [
    "file_path = root_dir+'inputs/input_6.txt'\n",
    "\n",
    "if os.path.exists(file_path):\n",
    "    file = open(file_path,'r')\n",
    "    \n",
    "raw = file.read()\n",
    "raw = raw[:-1]\n",
    "\n",
    "#raw='abc\\n\\na\\nb\\nc\\n\\nab\\nac\\n\\na\\na\\na\\na\\n\\nb'"
   ]
  },
  {
   "cell_type": "code",
   "execution_count": 273,
   "metadata": {},
   "outputs": [],
   "source": [
    "groups = raw.split('\\n\\n')"
   ]
  },
  {
   "cell_type": "code",
   "execution_count": 274,
   "metadata": {},
   "outputs": [
    {
     "data": {
      "text/plain": [
       "5"
      ]
     },
     "execution_count": 274,
     "metadata": {},
     "output_type": "execute_result"
    }
   ],
   "source": [
    "len(groups)"
   ]
  },
  {
   "cell_type": "code",
   "execution_count": 275,
   "metadata": {},
   "outputs": [
    {
     "name": "stdout",
     "output_type": "stream",
     "text": [
      "For part 1, the sum is : 11\n"
     ]
    }
   ],
   "source": [
    "summ = 0\n",
    "for group in groups : \n",
    "    group = re.sub('\\n','',group)\n",
    "    group = [g for g in group]\n",
    "    group = np.unique(group)\n",
    "    \n",
    "    summ += len(group)\n",
    "print('For part 1, the sum is :',summ)"
   ]
  },
  {
   "cell_type": "code",
   "execution_count": 287,
   "metadata": {},
   "outputs": [
    {
     "name": "stdout",
     "output_type": "stream",
     "text": [
      "For part 2, the sum is : 6\n"
     ]
    }
   ],
   "source": [
    "summ = 0\n",
    "for group in groups : \n",
    "    nb_in_gp = len(group.split('\\n'))\n",
    "    group = re.sub('\\n','',group)\n",
    "    group = [g for g in group]\n",
    "    uniq, count = np.unique(group, return_counts = True)\n",
    "    filtre = count==nb_in_gp\n",
    "    summ += np.sum(filtre)\n",
    "    #print(group, nb_in_gp, count,filtre,np.sum(filtre))\n",
    "print('For part 2, the sum is :',summ)"
   ]
  },
  {
   "cell_type": "code",
   "execution_count": null,
   "metadata": {},
   "outputs": [],
   "source": []
  }
 ],
 "metadata": {
  "kernelspec": {
   "display_name": "Python 3",
   "language": "python",
   "name": "python3"
  },
  "language_info": {
   "codemirror_mode": {
    "name": "ipython",
    "version": 3
   },
   "file_extension": ".py",
   "mimetype": "text/x-python",
   "name": "python",
   "nbconvert_exporter": "python",
   "pygments_lexer": "ipython3",
   "version": "3.7.9"
  }
 },
 "nbformat": 4,
 "nbformat_minor": 4
}
